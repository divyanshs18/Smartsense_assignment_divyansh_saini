{
 "cells": [
  {
   "cell_type": "code",
   "execution_count": 1,
   "metadata": {},
   "outputs": [],
   "source": [
    "#auto responder.py"
   ]
  },
  {
   "cell_type": "code",
   "execution_count": 3,
   "metadata": {},
   "outputs": [],
   "source": [
    "import os\n",
    "\n",
    "def fetch_response(query):\n",
    "    responses = {\n",
    "        'syllabus': 'Here is the syllabus for your requested course: [link]',\n",
    "        'schedule': 'The department schedule can be accessed here: [link]',\n",
    "        'exam date': 'The exam is  scheduled date: [dd/mm/yy]',\n",
    "        \n",
    "    }\n",
    "\n",
    "    for keyword in responses:\n",
    "        if keyword in query.lower():\n",
    "            return responses[keyword]\n",
    "    \n",
    "    return \"Sorry,request process failed  automatically. It has been escalated.\"\n",
    "\n",
    "def generate_response(email_text):\n",
    "    response = fetch_response(email_text)\n",
    "    return response\n"
   ]
  },
  {
   "cell_type": "code",
   "execution_count": null,
   "metadata": {},
   "outputs": [],
   "source": []
  }
 ],
 "metadata": {
  "kernelspec": {
   "display_name": ".venv",
   "language": "python",
   "name": "python3"
  },
  "language_info": {
   "codemirror_mode": {
    "name": "ipython",
    "version": 3
   },
   "file_extension": ".py",
   "mimetype": "text/x-python",
   "name": "python",
   "nbconvert_exporter": "python",
   "pygments_lexer": "ipython3",
   "version": "3.12.3"
  }
 },
 "nbformat": 4,
 "nbformat_minor": 2
}
